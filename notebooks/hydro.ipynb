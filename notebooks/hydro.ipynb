{
 "cells": [
  {
   "cell_type": "code",
   "execution_count": 37,
   "metadata": {},
   "outputs": [],
   "source": [
    "# importing necessary packages\n",
    "import pandas as pd\n",
    "import numpy as np  "
   ]
  },
  {
   "cell_type": "code",
   "execution_count": 38,
   "metadata": {},
   "outputs": [],
   "source": [
    "#importing data into work environment\n",
    "df_calabar = pd.read_csv('calabar_river_bar.csv')\n",
    "df_lagos = pd.read_csv('lagos_bar_readings.csv')"
   ]
  },
  {
   "cell_type": "code",
   "execution_count": 39,
   "metadata": {},
   "outputs": [
    {
     "data": {
      "text/html": [
       "<div>\n",
       "<style scoped>\n",
       "    .dataframe tbody tr th:only-of-type {\n",
       "        vertical-align: middle;\n",
       "    }\n",
       "\n",
       "    .dataframe tbody tr th {\n",
       "        vertical-align: top;\n",
       "    }\n",
       "\n",
       "    .dataframe thead th {\n",
       "        text-align: right;\n",
       "    }\n",
       "</style>\n",
       "<table border=\"1\" class=\"dataframe\">\n",
       "  <thead>\n",
       "    <tr style=\"text-align: right;\">\n",
       "      <th></th>\n",
       "      <th>Time_H</th>\n",
       "      <th>HW</th>\n",
       "      <th>Time_L</th>\n",
       "      <th>LW</th>\n",
       "    </tr>\n",
       "  </thead>\n",
       "  <tbody>\n",
       "    <tr>\n",
       "      <th>0</th>\n",
       "      <td>8:50</td>\n",
       "      <td>0.8</td>\n",
       "      <td>3:07</td>\n",
       "      <td>0.4</td>\n",
       "    </tr>\n",
       "    <tr>\n",
       "      <th>1</th>\n",
       "      <td>22:00</td>\n",
       "      <td>0.9</td>\n",
       "      <td>15:14</td>\n",
       "      <td>0.1</td>\n",
       "    </tr>\n",
       "    <tr>\n",
       "      <th>2</th>\n",
       "      <td>9:33</td>\n",
       "      <td>0.7</td>\n",
       "      <td>3:53</td>\n",
       "      <td>0.4</td>\n",
       "    </tr>\n",
       "    <tr>\n",
       "      <th>3</th>\n",
       "      <td>22:40</td>\n",
       "      <td>0.8</td>\n",
       "      <td>15:52</td>\n",
       "      <td>0.1</td>\n",
       "    </tr>\n",
       "    <tr>\n",
       "      <th>4</th>\n",
       "      <td>10:23</td>\n",
       "      <td>0.6</td>\n",
       "      <td>4:47</td>\n",
       "      <td>0.4</td>\n",
       "    </tr>\n",
       "  </tbody>\n",
       "</table>\n",
       "</div>"
      ],
      "text/plain": [
       "  Time_H   HW Time_L   LW\n",
       "0   8:50  0.8   3:07  0.4\n",
       "1  22:00  0.9  15:14  0.1\n",
       "2   9:33  0.7   3:53  0.4\n",
       "3  22:40  0.8  15:52  0.1\n",
       "4  10:23  0.6   4:47  0.4"
      ]
     },
     "execution_count": 39,
     "metadata": {},
     "output_type": "execute_result"
    }
   ],
   "source": [
    "#first 5 rows of lagos bar data\n",
    "df_lagos.head()"
   ]
  },
  {
   "cell_type": "code",
   "execution_count": 40,
   "metadata": {},
   "outputs": [
    {
     "data": {
      "text/html": [
       "<div>\n",
       "<style scoped>\n",
       "    .dataframe tbody tr th:only-of-type {\n",
       "        vertical-align: middle;\n",
       "    }\n",
       "\n",
       "    .dataframe tbody tr th {\n",
       "        vertical-align: top;\n",
       "    }\n",
       "\n",
       "    .dataframe thead th {\n",
       "        text-align: right;\n",
       "    }\n",
       "</style>\n",
       "<table border=\"1\" class=\"dataframe\">\n",
       "  <thead>\n",
       "    <tr style=\"text-align: right;\">\n",
       "      <th></th>\n",
       "      <th>Time_H</th>\n",
       "      <th>HW</th>\n",
       "      <th>Time_L</th>\n",
       "      <th>LW</th>\n",
       "    </tr>\n",
       "  </thead>\n",
       "  <tbody>\n",
       "    <tr>\n",
       "      <th>0</th>\n",
       "      <td>8:14</td>\n",
       "      <td>1.2</td>\n",
       "      <td>2:31</td>\n",
       "      <td>0.6</td>\n",
       "    </tr>\n",
       "    <tr>\n",
       "      <th>1</th>\n",
       "      <td>21:24</td>\n",
       "      <td>1.3</td>\n",
       "      <td>14:38</td>\n",
       "      <td>0.3</td>\n",
       "    </tr>\n",
       "    <tr>\n",
       "      <th>2</th>\n",
       "      <td>8:57</td>\n",
       "      <td>1.2</td>\n",
       "      <td>3:17</td>\n",
       "      <td>0.6</td>\n",
       "    </tr>\n",
       "    <tr>\n",
       "      <th>3</th>\n",
       "      <td>22:04</td>\n",
       "      <td>1.3</td>\n",
       "      <td>15:16</td>\n",
       "      <td>0.3</td>\n",
       "    </tr>\n",
       "    <tr>\n",
       "      <th>4</th>\n",
       "      <td>9:47</td>\n",
       "      <td>1.1</td>\n",
       "      <td>4:11</td>\n",
       "      <td>0.6</td>\n",
       "    </tr>\n",
       "  </tbody>\n",
       "</table>\n",
       "</div>"
      ],
      "text/plain": [
       "  Time_H   HW Time_L   LW\n",
       "0   8:14  1.2   2:31  0.6\n",
       "1  21:24  1.3  14:38  0.3\n",
       "2   8:57  1.2   3:17  0.6\n",
       "3  22:04  1.3  15:16  0.3\n",
       "4   9:47  1.1   4:11  0.6"
      ]
     },
     "execution_count": 40,
     "metadata": {},
     "output_type": "execute_result"
    }
   ],
   "source": [
    "#first 5 rows of  new calabar river bar data\n",
    "df_calabar.head()"
   ]
  },
  {
   "cell_type": "markdown",
   "metadata": {},
   "source": [
    "Functions to get needed columns from the data"
   ]
  },
  {
   "cell_type": "code",
   "execution_count": 41,
   "metadata": {},
   "outputs": [],
   "source": [
    "\n",
    "\n",
    "#function to get needed columns from the low water data\n",
    "def get_low(data):\n",
    "\n",
    "    n = 0\n",
    "    q = 4\n",
    "    l =[]\n",
    "    for i in range(len(data)):\n",
    "        \n",
    "        if i % 4 == 0:\n",
    "            \n",
    "            l.append(data[n:q]) \n",
    "            n+=4\n",
    "            q+=4   \n",
    "    return l\n",
    "low = get_low(df_calabar['LW']) # low water data needed from new calabar river bar\n",
    "low_lagos = get_low(df_lagos['LW']) # low water data needed from lagos bar\n",
    "\n",
    "\n",
    "#function to get needed columns from the high water data\n",
    "\n",
    "def get_high(data_h):\n",
    "    indices_to_remove = list(range(3, len(data_h), 4))\n",
    "    \n",
    "    # Create a boolean mask to filter out elements to be removed\n",
    "    mask = np.ones(len(data_h), dtype=bool)\n",
    "    mask[indices_to_remove] = False\n",
    "    \n",
    "    # Apply the mask to get the desired elements\n",
    "    data_h = data_h[mask]\n",
    "   \n",
    "\n",
    "    n= 0\n",
    "    q = 3\n",
    "    l =[]\n",
    "    for i in range(len(data_h)):\n",
    "        if i % 3 == 0:            \n",
    "            l.append(data_h[n:q]) \n",
    "            n+=3\n",
    "            q+=3\n",
    "\n",
    "    return l\n",
    "high = get_high(df_calabar['HW'])       # high water data needed from new calabar river bar\n",
    "high_lagos = get_high(df_lagos['HW'])   # high water data needed from lagos bar"
   ]
  },
  {
   "cell_type": "code",
   "execution_count": 42,
   "metadata": {},
   "outputs": [
    {
     "data": {
      "text/plain": [
       "[0    1.2\n",
       " 1    1.3\n",
       " 2    1.2\n",
       " Name: HW, dtype: float64,\n",
       " 4    1.1\n",
       " 5    1.3\n",
       " 6    1.0\n",
       " Name: HW, dtype: float64,\n",
       " 8     1.0\n",
       " 9     1.3\n",
       " 10    1.0\n",
       " Name: HW, dtype: float64,\n",
       " 12    1.1\n",
       " 13    1.4\n",
       " 14    1.2\n",
       " Name: HW, dtype: float64,\n",
       " 16    1.3\n",
       " 17    1.5\n",
       " 18    1.4\n",
       " Name: HW, dtype: float64,\n",
       " 20    1.5\n",
       " 21    1.5\n",
       " 22    1.5\n",
       " Name: HW, dtype: float64,\n",
       " 24    1.6\n",
       " 25    1.5\n",
       " 26    1.6\n",
       " Name: HW, dtype: float64,\n",
       " 28    1.5\n",
       " 29    1.3\n",
       " 30    1.5\n",
       " Name: HW, dtype: float64,\n",
       " 32    1.4\n",
       " 33    1.1\n",
       " 34    1.4\n",
       " Name: HW, dtype: float64,\n",
       " 36    1.3\n",
       " 37    1.1\n",
       " 38    1.3\n",
       " Name: HW, dtype: float64,\n",
       " 40    1.3\n",
       " 41    1.2\n",
       " 42    1.3\n",
       " Name: HW, dtype: float64,\n",
       " 44    1.3\n",
       " 45    1.3\n",
       " 46    1.4\n",
       " Name: HW, dtype: float64,\n",
       " 48    1.4\n",
       " 49    1.4\n",
       " 50    1.4\n",
       " Name: HW, dtype: float64,\n",
       " 52    1.4\n",
       " 53    1.4\n",
       " 54    1.3\n",
       " Name: HW, dtype: float64,\n",
       " 56    1.3\n",
       " 57    1.4\n",
       " 58    1.2\n",
       " Name: HW, dtype: float64]"
      ]
     },
     "execution_count": 42,
     "metadata": {},
     "output_type": "execute_result"
    }
   ],
   "source": [
    "#High waters New Calabar River Bar\n",
    "high"
   ]
  },
  {
   "cell_type": "code",
   "execution_count": 43,
   "metadata": {},
   "outputs": [
    {
     "data": {
      "text/plain": [
       "[0    0.8\n",
       " 1    0.9\n",
       " 2    0.7\n",
       " Name: HW, dtype: float64,\n",
       " 4    0.6\n",
       " 5    0.8\n",
       " 6    0.6\n",
       " Name: HW, dtype: float64,\n",
       " 8     0.6\n",
       " 9     0.8\n",
       " 10    0.6\n",
       " Name: HW, dtype: float64,\n",
       " 12    0.6\n",
       " 13    0.9\n",
       " 14    0.7\n",
       " Name: HW, dtype: float64,\n",
       " 16    0.8\n",
       " 17    1.0\n",
       " 18    0.9\n",
       " Name: HW, dtype: float64,\n",
       " 20    1.0\n",
       " 21    1.1\n",
       " 22    1.1\n",
       " Name: HW, dtype: float64,\n",
       " 24    1.1\n",
       " 25    1.0\n",
       " 26    1.1\n",
       " Name: HW, dtype: float64,\n",
       " 28    1.1\n",
       " 29    0.9\n",
       " 30    1.0\n",
       " Name: HW, dtype: float64,\n",
       " 32    1.0\n",
       " 33    0.7\n",
       " 34    0.9\n",
       " Name: HW, dtype: float64,\n",
       " 36    0.9\n",
       " 37    0.6\n",
       " 38    0.9\n",
       " Name: HW, dtype: float64,\n",
       " 40    0.9\n",
       " 41    0.7\n",
       " 42    0.9\n",
       " Name: HW, dtype: float64,\n",
       " 44    0.9\n",
       " 45    0.9\n",
       " 46    0.9\n",
       " Name: HW, dtype: float64,\n",
       " 48    0.9\n",
       " 49    0.9\n",
       " 50    0.9\n",
       " Name: HW, dtype: float64,\n",
       " 52    0.9\n",
       " 53    1.0\n",
       " 54    0.9\n",
       " Name: HW, dtype: float64,\n",
       " 56    0.8\n",
       " 57    0.9\n",
       " 58    0.8\n",
       " Name: HW, dtype: float64]"
      ]
     },
     "execution_count": 43,
     "metadata": {},
     "output_type": "execute_result"
    }
   ],
   "source": [
    "#High waters Lagos Bar\n",
    "high_lagos"
   ]
  },
  {
   "cell_type": "code",
   "execution_count": 44,
   "metadata": {},
   "outputs": [
    {
     "data": {
      "text/plain": [
       "[0    0.6\n",
       " 1    0.3\n",
       " 2    0.6\n",
       " 3    0.3\n",
       " Name: LW, dtype: float64,\n",
       " 4    0.6\n",
       " 5    0.4\n",
       " 6    0.6\n",
       " 7    0.5\n",
       " Name: LW, dtype: float64,\n",
       " 8     0.5\n",
       " 9     0.5\n",
       " 10    0.5\n",
       " 11    0.6\n",
       " Name: LW, dtype: float64,\n",
       " 12    0.4\n",
       " 13    0.6\n",
       " 14    0.3\n",
       " 15    0.5\n",
       " Name: LW, dtype: float64,\n",
       " 16    0.2\n",
       " 17    0.5\n",
       " 18    0.1\n",
       " 19    0.4\n",
       " Name: LW, dtype: float64,\n",
       " 20    0.0\n",
       " 21    0.4\n",
       " 22    0.0\n",
       " 23    0.3\n",
       " Name: LW, dtype: float64,\n",
       " 24    0.0\n",
       " 25    0.3\n",
       " 26    0.0\n",
       " 27    0.3\n",
       " Name: LW, dtype: float64,\n",
       " 28    0.1\n",
       " 29    0.4\n",
       " 30    0.2\n",
       " 31    0.4\n",
       " Name: LW, dtype: float64,\n",
       " 32    0.3\n",
       " 33    0.4\n",
       " 34    0.4\n",
       " 35    0.5\n",
       " Name: LW, dtype: float64,\n",
       " 36    0.5\n",
       " 37    0.4\n",
       " 38    0.6\n",
       " 39    0.4\n",
       " Name: LW, dtype: float64,\n",
       " 40    0.6\n",
       " 41    0.3\n",
       " 42    0.6\n",
       " 43    0.2\n",
       " Name: LW, dtype: float64,\n",
       " 44    0.6\n",
       " 45    0.2\n",
       " 46    0.5\n",
       " 47    0.1\n",
       " Name: LW, dtype: float64,\n",
       " 48    0.5\n",
       " 49    0.1\n",
       " 50    0.5\n",
       " 51    0.1\n",
       " Name: LW, dtype: float64,\n",
       " 52    0.4\n",
       " 53    0.1\n",
       " 54    0.4\n",
       " 55    0.2\n",
       " Name: LW, dtype: float64,\n",
       " 56    0.4\n",
       " 57    0.2\n",
       " 58    0.4\n",
       " 59    0.3\n",
       " Name: LW, dtype: float64]"
      ]
     },
     "execution_count": 44,
     "metadata": {},
     "output_type": "execute_result"
    }
   ],
   "source": [
    "#Low waters New Calabar River Bar\n",
    "low"
   ]
  },
  {
   "cell_type": "code",
   "execution_count": 45,
   "metadata": {},
   "outputs": [
    {
     "data": {
      "text/plain": [
       "[0    0.4\n",
       " 1    0.1\n",
       " 2    0.4\n",
       " 3    0.1\n",
       " Name: LW, dtype: float64,\n",
       " 4    0.4\n",
       " 5    0.2\n",
       " 6    0.4\n",
       " 7    0.3\n",
       " Name: LW, dtype: float64,\n",
       " 8     0.3\n",
       " 9     0.3\n",
       " 10    0.3\n",
       " 11    0.4\n",
       " Name: LW, dtype: float64,\n",
       " 12    0.2\n",
       " 13    0.4\n",
       " 14    0.1\n",
       " 15    0.3\n",
       " Name: LW, dtype: float64,\n",
       " 16    0.0\n",
       " 17    0.3\n",
       " 18   -0.1\n",
       " 19    0.2\n",
       " Name: LW, dtype: float64,\n",
       " 20   -0.2\n",
       " 21    0.2\n",
       " 22   -0.2\n",
       " 23    0.1\n",
       " Name: LW, dtype: float64,\n",
       " 24   -0.2\n",
       " 25    0.1\n",
       " 26   -0.2\n",
       " 27    0.1\n",
       " Name: LW, dtype: float64,\n",
       " 28   -0.1\n",
       " 29    0.2\n",
       " 30    0.0\n",
       " 31    0.2\n",
       " Name: LW, dtype: float64,\n",
       " 32    0.1\n",
       " 33    0.2\n",
       " 34    0.2\n",
       " 35    0.2\n",
       " Name: LW, dtype: float64,\n",
       " 36    0.3\n",
       " 37    0.2\n",
       " 38    0.4\n",
       " 39    0.2\n",
       " Name: LW, dtype: float64,\n",
       " 40    0.4\n",
       " 41    0.1\n",
       " 42    0.4\n",
       " 43    0.0\n",
       " Name: LW, dtype: float64,\n",
       " 44    0.3\n",
       " 45    0.0\n",
       " 46    0.3\n",
       " 47   -0.1\n",
       " Name: LW, dtype: float64,\n",
       " 48    0.3\n",
       " 49   -0.1\n",
       " 50    0.2\n",
       " 51   -0.1\n",
       " Name: LW, dtype: float64,\n",
       " 52    0.2\n",
       " 53   -0.1\n",
       " 54    0.2\n",
       " 55    0.0\n",
       " Name: LW, dtype: float64,\n",
       " 56    0.2\n",
       " 57    0.0\n",
       " 58    0.2\n",
       " 59    0.1\n",
       " Name: LW, dtype: float64]"
      ]
     },
     "execution_count": 45,
     "metadata": {},
     "output_type": "execute_result"
    }
   ],
   "source": [
    "#High waters Lagos Bar\n",
    "low_lagos"
   ]
  },
  {
   "cell_type": "markdown",
   "metadata": {},
   "source": [
    "Functions to calculate Mean High Water, Mean Low Water, Range, and Mean Tide Level"
   ]
  },
  {
   "cell_type": "code",
   "execution_count": 46,
   "metadata": {},
   "outputs": [],
   "source": [
    "\n",
    "\n",
    "#Function to calculate Mean High Water, Mean Low Water, Range, and Mean Tide Level for new calabar river bar\n",
    "def equation_cross_river_bay(low, high):\n",
    "    r = []\n",
    "    m = []\n",
    "    for i in range(15):\n",
    "        a,c,e,g = low[i]\n",
    "        b,d,f = high[i]\n",
    "        MLW = (a+ 3*c+ 3*e + g )/8\n",
    "        MHW = (b+ 2*d + f)/4\n",
    "        r.append(MHW - MLW)\n",
    "        m.append((MHW + MLW) / 2)\n",
    "\n",
    "    return r,m\n",
    "\n",
    "\n",
    "\n",
    "r, m = equation_cross_river_bay(low, high)\n",
    "\n",
    "\n",
    "\n",
    "\n",
    "#Function to calculate Mean High Water, Mean Low Water, Range, and Mean Tide Level for lagos bar\n",
    "def equation_lagos_bar(low_lagos, high_lagos):\n",
    "    R = []\n",
    "    M_ = []\n",
    "    for i in range(15):\n",
    "        a,c,e,g = low_lagos[i]\n",
    "        b,d,f = high_lagos[i]\n",
    "        MLW = (a+ 3*c+ 3*e + g )/8\n",
    "        MHW = (b+ 2*d + f)/4\n",
    "        R.append(MHW - MLW)\n",
    "        M_.append((MHW + MLW) / 2)\n",
    "\n",
    "    return R,M_\n",
    "\n",
    "R, M_ = equation_lagos_bar(low_lagos, high_lagos)\n"
   ]
  },
  {
   "cell_type": "code",
   "execution_count": 47,
   "metadata": {},
   "outputs": [
    {
     "data": {
      "text/plain": [
       "[0.8,\n",
       " 0.6625000000000001,\n",
       " 0.6375,\n",
       " 0.825,\n",
       " 1.1249999999999998,\n",
       " 1.3125,\n",
       " 1.4,\n",
       " 1.1124999999999998,\n",
       " 0.85,\n",
       " 0.7124999999999999,\n",
       " 0.8125,\n",
       " 0.9750000000000001,\n",
       " 1.0999999999999999,\n",
       " 1.1124999999999998,\n",
       " 1.0125]"
      ]
     },
     "execution_count": 47,
     "metadata": {},
     "output_type": "execute_result"
    }
   ],
   "source": [
    "#tidal ranges new calabar river bar\n",
    "r"
   ]
  },
  {
   "cell_type": "code",
   "execution_count": 48,
   "metadata": {},
   "outputs": [
    {
     "data": {
      "text/plain": [
       "[0.575,\n",
       " 0.38750000000000007,\n",
       " 0.3875000000000001,\n",
       " 0.5249999999999999,\n",
       " 0.825,\n",
       " 1.0875000000000001,\n",
       " 1.1,\n",
       " 0.8875000000000001,\n",
       " 0.6375,\n",
       " 0.4624999999999999,\n",
       " 0.5624999999999999,\n",
       " 0.7625000000000001,\n",
       " 0.8375,\n",
       " 0.8875,\n",
       " 0.7375]"
      ]
     },
     "execution_count": 48,
     "metadata": {},
     "output_type": "execute_result"
    }
   ],
   "source": [
    "#tidal ranges Lagos bar\n",
    "R"
   ]
  },
  {
   "cell_type": "code",
   "execution_count": 49,
   "metadata": {},
   "outputs": [
    {
     "data": {
      "text/plain": [
       "[0.85,\n",
       " 0.84375,\n",
       " 0.8312499999999999,\n",
       " 0.8624999999999999,\n",
       " 0.8624999999999999,\n",
       " 0.84375,\n",
       " 0.8499999999999999,\n",
       " 0.84375,\n",
       " 0.825,\n",
       " 0.84375,\n",
       " 0.84375,\n",
       " 0.8375000000000001,\n",
       " 0.85,\n",
       " 0.8187499999999999,\n",
       " 0.81875]"
      ]
     },
     "execution_count": 49,
     "metadata": {},
     "output_type": "execute_result"
    }
   ],
   "source": [
    "#Mean Tide levels new calabar river bar\n",
    "m"
   ]
  },
  {
   "cell_type": "code",
   "execution_count": 50,
   "metadata": {},
   "outputs": [
    {
     "data": {
      "text/plain": [
       "[0.5375,\n",
       " 0.5062500000000001,\n",
       " 0.50625,\n",
       " 0.5125,\n",
       " 0.5125,\n",
       " 0.5312500000000001,\n",
       " 0.5,\n",
       " 0.53125,\n",
       " 0.50625,\n",
       " 0.51875,\n",
       " 0.51875,\n",
       " 0.51875,\n",
       " 0.48125,\n",
       " 0.50625,\n",
       " 0.48125000000000007]"
      ]
     },
     "execution_count": 50,
     "metadata": {},
     "output_type": "execute_result"
    }
   ],
   "source": [
    "#Mean Tide Levels Lagos bar\n",
    "M_"
   ]
  },
  {
   "cell_type": "markdown",
   "metadata": {},
   "source": [
    "Calculating New Gauge Sounding Datum"
   ]
  },
  {
   "cell_type": "code",
   "execution_count": 51,
   "metadata": {},
   "outputs": [],
   "source": [
    "def sound_datum(r,m, R, M_):\n",
    "    d = []\n",
    "    for i in range(15):\n",
    "        M = 0.518       \n",
    "        d.append((m[i] -(M_[i] - M)-(M*r[i]/R[i])))\n",
    "    return d\n",
    "\n",
    "new_gauge_sounding_datum = sound_datum(r,m,R,M_) # new_gauge_sounding_datum in centimeters"
   ]
  },
  {
   "cell_type": "markdown",
   "metadata": {},
   "source": [
    "New Gauge Sounding Datums in Centimeters to 2 decimal places"
   ]
  },
  {
   "cell_type": "code",
   "execution_count": 52,
   "metadata": {},
   "outputs": [
    {
     "data": {
      "text/plain": [
       "[0.11,\n",
       " -0.03,\n",
       " -0.01,\n",
       " 0.05,\n",
       " 0.16,\n",
       " 0.21,\n",
       " 0.21,\n",
       " 0.18,\n",
       " 0.15,\n",
       " 0.04,\n",
       " 0.09,\n",
       " 0.17,\n",
       " 0.21,\n",
       " 0.18,\n",
       " 0.14]"
      ]
     },
     "execution_count": 52,
     "metadata": {},
     "output_type": "execute_result"
    }
   ],
   "source": [
    "new_gauge_sounding_datum = [round(i,2) for i in new_gauge_sounding_datum] #new_gauge_sounding_datum to 2d.p\n",
    "new_gauge_sounding_datum"
   ]
  },
  {
   "cell_type": "markdown",
   "metadata": {},
   "source": [
    "Saving New Gauge Sounding Datums to a CSV file named New Gauge Sounding Datum Readings.csv in the working folder"
   ]
  },
  {
   "cell_type": "code",
   "execution_count": 53,
   "metadata": {},
   "outputs": [],
   "source": [
    "results = pd.DataFrame({ \n",
    "                      'Tidal Range at Secondary Port (m)': r, \n",
    "                      'MTL_Secondary (m)': m,\n",
    "                      'Tidal Range at Established Gauge/Port (m)':R,\n",
    "                      'MTL_Established (m)':M_,\n",
    "                      'New Sounding Datum (m)': new_gauge_sounding_datum}\n",
    "                      )    #converting to a pandas Dataframe\n",
    "results.to_csv('Results.csv')  # saves to a csv file"
   ]
  },
  {
   "cell_type": "markdown",
   "metadata": {},
   "source": [
    "Plotting Soundng Datums"
   ]
  },
  {
   "cell_type": "code",
   "execution_count": 54,
   "metadata": {},
   "outputs": [
    {
     "data": {
      "image/png": "[encoded data removed]",
      "text/plain": [
       "<Figure size 640x480 with 1 Axes>"
      ]
     },
     "metadata": {},
     "output_type": "display_data"
    }
   ],
   "source": [
    "import matplotlib_inline\n",
    "import matplotlib.pyplot as plt\n",
    "\n",
    "\n",
    "plt.plot(new_gauge_sounding_datum)\n",
    "plt.title(' Graph of Sounding Datum at New Gauge')\n",
    "plt.show()"
   ]
  }
 ],
 "metadata": {
  "kernelspec": {
   "display_name": "base",
   "language": "python",
   "name": "python3"
  },
  "language_info": {
   "codemirror_mode": {
    "name": "ipython",
    "version": 3
   },
   "file_extension": ".py",
   "mimetype": "text/x-python",
   "name": "python",
   "nbconvert_exporter": "python",
   "pygments_lexer": "ipython3",
   "version": "3.11.4"
  }
 },
 "nbformat": 4,
 "nbformat_minor": 2
}
